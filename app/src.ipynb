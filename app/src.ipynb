{
 "cells": [
  {
   "cell_type": "code",
   "execution_count": 6,
   "metadata": {},
   "outputs": [],
   "source": [
    "import cv2\n",
    "import numpy as np\n",
    "import pandas"
   ]
  },
  {
   "cell_type": "code",
   "execution_count": 7,
   "metadata": {},
   "outputs": [],
   "source": [
    "def mouse_event(event, x, y, flags, params):\n",
    "    \n",
    "    if event == cv2.EVENT_LBUTTONDOWN:\n",
    "        print(x, \" \", y)\n",
    "        point = (x, y)\n",
    "        points.append(point)\n",
    "\n",
    "        font = cv2.FONT_HERSHEY_SIMPLEX\n",
    "        # cv2.putText(img, str(x) + ',' +\n",
    "        #             str(y), (x,y), font, \n",
    "        #             1, (255, 0, 0), 2)\n",
    "        cv2.imshow('image', img)"
   ]
  },
  {
   "cell_type": "code",
   "execution_count": 8,
   "metadata": {},
   "outputs": [
    {
     "name": "stdout",
     "output_type": "stream",
     "text": [
      "63   499\n",
      "65   535\n",
      "216   538\n",
      "218   503\n",
      "[(63, 499), (65, 535), (216, 538), (218, 503)]\n",
      "[[ 63 499]\n",
      " [ 65 535]\n",
      " [216 538]\n",
      " [218 503]]\n"
     ]
    }
   ],
   "source": [
    "if __name__==\"__main__\":\n",
    "    points = []\n",
    "    img = cv2.imread(\"PAN.png\", 1)\n",
    "    cv2.namedWindow(\"image\", cv2.WINDOW_NORMAL)\n",
    "    cv2.imshow(\"image\", img)\n",
    "    cv2.setMouseCallback(\"image\", mouse_event)\n",
    "    cv2.waitKey(0)\n",
    "    cv2.destroyAllWindows()\n",
    "    print(points)\n",
    "    points = np.array(points)\n",
    "    print(points)\n",
    "    mask = np.zeros_like(img)\n",
    "    cv2.fillPoly(mask, [points], (255, 255, 255))\n",
    "    img[np.all(mask == (255, 255, 255), axis=-1)] = (255, 255, 255)\n",
    "    cv2.imwrite(\"marked_image.jpg\", img)\n",
    "    cv2.namedWindow(\"White Marked Rectangle\", cv2.WINDOW_NORMAL)\n",
    "    cv2.imshow(\"White Marked Rectangle\", img)\n",
    "    cv2.waitKey(0)\n",
    "    cv2.destroyAllWindows()\n",
    "\n",
    "    names = pandas.read_csv(\"Indian-Male-Names.csv\")\n",
    "\n",
    "    number_of_mocks = 10\n",
    "\n",
    "    \n",
    "\n",
    "    for i in range(number_of_mocks):\n",
    "        dup_of_img = img.copy()\n",
    "        text = names['name'][i]\n",
    "        font = cv2.FONT_ITALIC\n",
    "        font_scale = 1\n",
    "        font_thickness = 2\n",
    "        font_color = (0, 0, 0)\n",
    "\n",
    "        org = (points[1][0], points[1][1])\n",
    "\n",
    "        \n",
    "\n",
    "        cv2.putText(dup_of_img, text, org, font, font_scale, font_color, font_thickness)\n",
    "        cv2.imwrite(f\"mock-data/marked_image_with_text{i}.jpg\", dup_of_img)\n",
    "\n",
    "\n",
    "\n",
    "\n",
    "    \n",
    "\n"
   ]
  }
 ],
 "metadata": {
  "kernelspec": {
   "display_name": "mock-data-generator",
   "language": "python",
   "name": "python3"
  },
  "language_info": {
   "codemirror_mode": {
    "name": "ipython",
    "version": 3
   },
   "file_extension": ".py",
   "mimetype": "text/x-python",
   "name": "python",
   "nbconvert_exporter": "python",
   "pygments_lexer": "ipython3",
   "version": "3.12.8"
  }
 },
 "nbformat": 4,
 "nbformat_minor": 2
}
